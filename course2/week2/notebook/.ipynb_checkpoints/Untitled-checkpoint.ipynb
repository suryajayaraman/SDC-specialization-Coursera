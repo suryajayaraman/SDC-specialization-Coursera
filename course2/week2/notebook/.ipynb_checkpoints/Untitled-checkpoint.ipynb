{
 "cells": [
  {
   "cell_type": "code",
   "execution_count": null,
   "metadata": {},
   "outputs": [],
   "source": [
    "def measurement_update(posemean, posecov, z):\n",
    "    \n",
    "    # 1. Compute measurement Jacobian\n",
    "    x  = x_check[0,0]\n",
    "    y  = x_check[0,1]\n",
    "    th = wraptopi(x_check[0,2])\n",
    "    \n",
    "    xl = lk[0]\n",
    "    yl = lk[1]\n",
    "    \n",
    "    star1 =xl - x - d*np.cos(th)\n",
    "    star2 =yl - y - d*np.sin(th)\n",
    "    frac = star1**2+star2**2\n",
    "    den  = np.sqrt(frac)\n",
    "    \n",
    "    Hk=np.array([\n",
    "                [-star1/den,     -star2/den,     (star1*d*np.sin(th)-star2*d*np.cos(th))/den],\n",
    "                [star2/frac,     -star1/frac,    -1- (d*np.sin(th)*star2/frac) - (d*np.cos(th)*star1/frac)]\n",
    "                ])\n",
    "    \n",
    "    Hk = Hk.reshape((2,3))  \n",
    "    Mk=np.identity(2)\n",
    "\n",
    "    # 2. Compute Kalman Gain\n",
    "    #print('Hk shape is    ' + str(Hk.shape))\n",
    "    #print('cov_y shape is ' + str(cov_y.shape))\n",
    "    #print('Mk shape is    ' + str(Mk.shape))\n",
    "    \n",
    "    S  = np.matmul(Hk, np.matmul(P_check, Hk.T)) + np.matmul(Mk, np.matmul(cov_y, Mk.T))  \n",
    "    #S  = np.matmul(Hk, np.matmul(P_check, Hk.T)) + cov_y \n",
    "    Kk = np.matmul(np.matmul(P_check, Hk.T), np.linalg.inv(S) )\n",
    "    #print('Kk shape is    ' + str(Kk.shape))\n",
    "    \n",
    "    # 3. Correct predicted state (remember to wrap the angles to [-pi,pi])\n",
    "    yk=np.array([den, wraptopi(np.arctan2(star2,star1)-wraptopi(th))]).reshape((2,1))  \n",
    "    ym=np.array([rk,wraptopi(bk)]).reshape((2,1))  \n",
    "    \n",
    "    temp = (ym-yk)\n",
    "    #print('ym shape is    ' + str(ym.shape))\n",
    "    #print('yk shape is    ' + str(yk.shape))\n",
    "    #print('temp shape is  ' + str(temp.shape))\n",
    "    \n",
    "    #print('residual correction is ' + str(temp))\n",
    "    x_check = x_check + np.matmul(Kk, temp).T\n",
    "    #print('x_check shape is    ' + str(x_check.shape))\n",
    "    x_check[0,2]=wraptopi(x_check[0,2])\n",
    "        \n",
    "    # 4. Correct covariance\n",
    "    P_check= np.matmul( (np.identity(3)-np.matmul(Kk,Hk)) , P_check )\n",
    "    \n",
    "    return x_check, P_check\n"
   ]
  }
 ],
 "metadata": {
  "kernelspec": {
   "display_name": "Python 3",
   "language": "python",
   "name": "python3"
  },
  "language_info": {
   "codemirror_mode": {
    "name": "ipython",
    "version": 3
   },
   "file_extension": ".py",
   "mimetype": "text/x-python",
   "name": "python",
   "nbconvert_exporter": "python",
   "pygments_lexer": "ipython3",
   "version": "3.7.4"
  }
 },
 "nbformat": 4,
 "nbformat_minor": 2
}
